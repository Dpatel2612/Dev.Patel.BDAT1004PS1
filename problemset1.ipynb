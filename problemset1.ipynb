{
 "cells": [
  {
   "cell_type": "markdown",
   "id": "dce451f9-88fb-46b6-94b8-b23a1a09eda5",
   "metadata": {},
   "source": [
    "# Problem Set 1\n",
    "This problem set is based on lectures 1,2 and 3. For a complete list of topics please consult page 2 of the course syllabus. Please consult the “Instructions for Problem Set Submissions” document under course information before submitting your assignment.\n",
    "                                                                                                                                                            "
   ]
  },
  {
   "cell_type": "markdown",
   "id": "ffae898c-24bd-4312-9afb-ad0daa49e25a",
   "metadata": {},
   "source": [
    "# Question 1\n",
    "What data type is each of the following (evaluate where necessary)?"
   ]
  },
  {
   "cell_type": "markdown",
   "id": "51222880-deb2-45e8-9760-b12686e665e6",
   "metadata": {},
   "source": [
    "|**Question**     | **Answer**|\n",
    "|:--------     |:------:|\n",
    "|5\t           |int|\n",
    "|5.0|\tfloat|\n",
    "|5 > 1|\tbool|\n",
    "|'5'|\tstr|\n",
    "|5 * 2\t|int|\n",
    "|'5' * 2\t|str|\n",
    "|'5' + '2'|\tstr|\n",
    "|5 / 2|\tfloat|\n",
    "|5 % 2|\tint|\n",
    "|{5, 2, 1}|\tset|\n",
    "|5 == 3|\tbool|\n",
    "|Pi (the number) |\tfloat|"
   ]
  },
  {
   "cell_type": "markdown",
   "id": "dee7ce64-633b-4544-bcc7-b0ad291fa834",
   "metadata": {},
   "source": [
    "# Question 2\n",
    "Write (and evaluate) python expressions that answer these questions:"
   ]
  },
  {
   "cell_type": "markdown",
   "id": "61ef6b03-8160-4080-8329-398394ee6795",
   "metadata": {},
   "source": [
    "a. How many letters are there in 'Supercalifragilisticexpialidocious'?\n",
    "\n",
    "b. Does 'Supercalifragilisticexpialidocious' contain 'ice' as a substring?\n",
    "\n",
    "c. Which of the following words is the longest: Supercalifragilisticexpialidocious,  Honorificabilitudinitatibus, or Bababadalgharaghtakamminarronnkonn? \n",
    "\n",
    "d. Which composer comes first in the dictionary: 'Berlioz', 'Borodin', 'Brian','Bartok', 'Bellini', 'Buxtehude', 'Bernstein'. Which one comes last?"
   ]
  },
  {
   "cell_type": "code",
   "execution_count": 10,
   "id": "26d8e0d9-b9d6-4453-8af0-90b7d5f25764",
   "metadata": {},
   "outputs": [
    {
     "name": "stdout",
     "output_type": "stream",
     "text": [
      "34 letters in Supercalifragilisticexpialidocious\n"
     ]
    }
   ],
   "source": [
    "# the number of letters in the word\n",
    "NumOfLetter = len('Supercalifragilisticexpialidocious')\n",
    "\n",
    "print(NumOfLetter, \"letters in Supercalifragilisticexpialidocious\")"
   ]
  },
  {
   "cell_type": "code",
   "execution_count": 16,
   "id": "6022a04a-f9fb-438a-8ddc-eac8009bd7a2",
   "metadata": {},
   "outputs": [
    {
     "name": "stdout",
     "output_type": "stream",
     "text": [
      "Yes, 'Supercalifragilisticexpialidocious' includes 'ice'.\n"
     ]
    }
   ],
   "source": [
    "iceCheck = 'ice' in 'Supercalifragilisticexpialidocious'\n",
    "\n",
    "if not iceCheck:\n",
    "    print(\"The word 'Supercalifragilisticexpialidocious' does not have 'ice'.\")\n",
    "print(\"Yes, 'Supercalifragilisticexpialidocious' includes 'ice'.\")"
   ]
  },
  {
   "cell_type": "code",
   "execution_count": 18,
   "id": "75775d8c-64ef-43a7-9c27-949f506477fe",
   "metadata": {},
   "outputs": [
    {
     "name": "stdout",
     "output_type": "stream",
     "text": [
      "Longest word(s): ['Supercalifragilisticexpialidocious', 'Bababadalgharaghtakamminarronnkonn']\n",
      "Length: 34\n"
     ]
    }
   ],
   "source": [
    "# List of words to compare\n",
    "words = [\n",
    "    \"Supercalifragilisticexpialidocious\",\n",
    "    \"Honorificabilitudinitatibus\",\n",
    "    \"Bababadalgharaghtakamminarronnkonn\"\n",
    "]\n",
    "\n",
    "# Initialize variables to track the longest words\n",
    "max_length = 0\n",
    "longest_words = []\n",
    "\n",
    "# Iterate through the list of words\n",
    "for word in words:\n",
    "    length = len(word)\n",
    "    if length > max_length:\n",
    "        max_length = length\n",
    "        longest_words = [word]  # Start a new list with the current longest word\n",
    "    elif length == max_length:\n",
    "        longest_words.append(word)  # Add to the list if another longest word is found\n",
    "\n",
    "# Output the results\n",
    "print(\"Longest word(s):\", longest_words)\n",
    "print(\"Length:\", max_length)"
   ]
  },
  {
   "cell_type": "code",
   "execution_count": 21,
   "id": "fc754838-631e-4e90-b416-b51b60730a06",
   "metadata": {},
   "outputs": [
    {
     "name": "stdout",
     "output_type": "stream",
     "text": [
      "Bartok is the first composer in the dictionary.\n",
      "Buxtehude is the last composer in the dictionary.\n"
     ]
    }
   ],
   "source": [
    "# List of composers\n",
    "composers = ['Berlioz', 'Borodin', 'Brian', 'Bartok', 'Bellini', 'Buxtehude', 'Bernstein']\n",
    "\n",
    "# Sort the list\n",
    "sorted_composers = sorted(composers)\n",
    "\n",
    "# Get the first and last composers\n",
    "first_composer = sorted_composers[0]\n",
    "last_composer = sorted_composers[-1]\n",
    "\n",
    "# Print the results\n",
    "print(first_composer, \"is the first composer in the dictionary.\")\n",
    "print(last_composer, \"is the last composer in the dictionary.\")"
   ]
  },
  {
   "cell_type": "markdown",
   "id": "0fb60dc6-3225-4907-89fe-da4a0ec97911",
   "metadata": {},
   "source": [
    "# Question 3\n",
    "Implement function triangleArea(a,b,c) that takes as input the lengths of the 3 sides of a triangle and returns the area of the triangle. By Heron's formula, the area of a triangle with side lengths a, b, and c is under roots(s - a)(s -b)(s -c) w, where s = (a+b+c)/2.\n",
    ">>> triangleArea(2,2,2)\n",
    "1.7320508075688772"
   ]
  },
  {
   "cell_type": "code",
   "execution_count": 24,
   "id": "07e0197e-4734-4ece-9ff6-1b9f037990ee",
   "metadata": {},
   "outputs": [
    {
     "name": "stdout",
     "output_type": "stream",
     "text": [
      "1.7320508075688772\n"
     ]
    }
   ],
   "source": [
    "import math\n",
    "\n",
    "def triangle_area(a, b, c):\n",
    "    # Calculate semi-perimeter\n",
    "    s = (a + b + c) / 2\n",
    "    \n",
    "    # Calculate area using Heron's formula\n",
    "    area = math.sqrt(s * (s - a) * (s - b) * (s - c))\n",
    "    \n",
    "    return area\n",
    "\n",
    "# Example usage\n",
    "print(triangle_area(2, 2, 2))"
   ]
  },
  {
   "cell_type": "markdown",
   "id": "1b1a1caf-fe36-455d-a889-6c28a8d3c86a",
   "metadata": {},
   "source": [
    "# Question 4\n",
    "Write a program in python to separate odd and even integers in separate arrays. Go to the editor\n",
    "Test Data :\n",
    "Input the number of elements to be stored in the array :5\n",
    "Input 5 elements in the array :\n",
    "element - 0 : 25\n",
    "element - 1 : 47\n",
    "element - 2 : 42\n",
    "element - 3 : 56\n",
    "element - 4 : 32\n",
    "Expected Output:\n",
    "The Even elements are:\n",
    "42 56 32\n",
    "The Odd elements are :\n",
    "25 47"
   ]
  },
  {
   "cell_type": "code",
   "execution_count": 27,
   "id": "42015192-6041-4175-bdc2-c617292840a3",
   "metadata": {},
   "outputs": [
    {
     "name": "stdin",
     "output_type": "stream",
     "text": [
      "Enter the number of elements to store in the array:  5\n",
      "Element 0:  25\n",
      "Element 1:  47\n",
      "Element 2:  42\n",
      "Element 3:  56\n",
      "Element 4:  32\n"
     ]
    },
    {
     "name": "stdout",
     "output_type": "stream",
     "text": [
      "The even elements are:\n",
      "42 56 32 \n",
      "The odd elements are:\n",
      "25 47 \n"
     ]
    }
   ],
   "source": [
    "def separate_odd_even():\n",
    "    # Input the number of elements\n",
    "    n = int(input(\"Enter the number of elements to store in the array: \"))\n",
    "    \n",
    "    # Initialize lists for even and odd numbers\n",
    "    even_numbers = []\n",
    "    odd_numbers = []\n",
    "    \n",
    "    # Input elements\n",
    "    for i in range(n):\n",
    "        element = int(input(f\"Element {i}: \"))\n",
    "        if element % 2 == 0:\n",
    "            even_numbers.append(element)  # Add to even list\n",
    "        else:\n",
    "            odd_numbers.append(element)  # Add to odd list\n",
    "    \n",
    "    # Print even numbers\n",
    "    print(\"The even elements are:\")\n",
    "    for num in even_numbers:\n",
    "        print(num, end=' ')\n",
    "    print()  # New line after printing even numbers\n",
    "    \n",
    "    # Print odd numbers\n",
    "    print(\"The odd elements are:\")\n",
    "    for num in odd_numbers:\n",
    "        print(num, end=' ')\n",
    "    print()  # New line after printing odd numbers\n",
    "\n",
    "# Call the function\n",
    "separate_odd_even()"
   ]
  },
  {
   "cell_type": "markdown",
   "id": "9bd1b9ea-a79c-4833-b213-2671ac5d8515",
   "metadata": {},
   "source": [
    "# Question 5\n",
    "\n",
    "a. Write a function inside(x,y,x1,y1,x2,y2) that returns True or Fals \n",
    "depending on whether the point (x,y) lies in the rectangle with lower le t\n",
    "cor er (x1,y1) and upper right corner (x2,y\n",
    "2>>> inside(1,1,0,0,2,3)\n",
    "\n",
    ">>> inside(-1,-1,0,0,2,3)\n",
    "False\n",
    ">>\n",
    "\n",
    "\n",
    "b. Use function inside() from part a. to write an expression that tests whether the point (1,1) lies in both of the following rectangles: one with lower left corner (0.3, 0.5) and upper right corner (1.1, 0.7) and the other with lower left corner (0.5, 0.2) and upper right corner (1.1, 2). \n"
   ]
  },
  {
   "cell_type": "code",
   "execution_count": 30,
   "id": "0eefedae-68b0-4055-b1d1-b5880660d845",
   "metadata": {},
   "outputs": [
    {
     "name": "stdout",
     "output_type": "stream",
     "text": [
      "True\n",
      "False\n"
     ]
    }
   ],
   "source": [
    "def inside(x, y, x1, y1, x2, y2):\n",
    "    \"\"\"\n",
    "    Parameters (float):\n",
    "    x : x-coordinate of the point\n",
    "    y : y-coordinate of the point\n",
    "    x1: x-coordinate of the lower left corner of the rectangle\n",
    "    y1: y-coordinate of the lower left corner of the rectangle\n",
    "    x2: x-coordinate of the upper right corner of the rectangle\n",
    "    y2: y-coordinate of the upper right corner of the rectangle\n",
    "\n",
    "    Returns:\n",
    "    bool: True if the point is inside the rectangle, False otherwise\n",
    "    \"\"\"\n",
    "    \n",
    "    return x1 <= x <= x2 and y1 <= y <= y2\n",
    "\n",
    "# Example usage\n",
    "print(inside(1, 1, 0, 0, 2, 3))    # Expected Output: True\n",
    "print(inside(-1, -1, 0, 0, 2, 3))  # Expected Output: False"
   ]
  },
  {
   "cell_type": "code",
   "execution_count": 33,
   "id": "3d94f05f-6d30-4020-be97-0c30ad8d91d9",
   "metadata": {},
   "outputs": [
    {
     "name": "stdout",
     "output_type": "stream",
     "text": [
      "Point (1, 1) inside rectangle 1: False\n",
      "Point (1, 1) inside rectangle 2: True\n"
     ]
    }
   ],
   "source": [
    "def inside(x, y, x1, y1, x2, y2):\n",
    "    return x1 <= x <= x2 and y1 <= y <= y2\n",
    "\n",
    "# Point to check\n",
    "point_x = 1\n",
    "point_y = 1\n",
    "\n",
    "# Check if the point is inside the first rectangle\n",
    "result_r1 = inside(point_x, point_y, 0.3, 0.5, 1.1, 0.7)\n",
    "\n",
    "# Check if the point is inside the second rectangle\n",
    "result_r2 = inside(point_x, point_y, 0.5, 0.2, 1.1, 2)\n",
    "\n",
    "# Print results\n",
    "print(\"Point (1, 1) inside rectangle 1:\", result_r1)  \n",
    "print(\"Point (1, 1) inside rectangle 2:\", result_r2)  "
   ]
  },
  {
   "cell_type": "markdown",
   "id": "4343f619-8020-4edd-a8f2-f5bd44637a02",
   "metadata": {},
   "source": [
    "# Question 6\n",
    " You can turn a word into pig-Latin using the following two rules (simplified):\n",
    " \n",
    "• If the word starts with a consonant, move that letter to the end and append 'ay'. For example, 'happy' becomes 'appyhay' and 'pencil' becomes 'encilpay'.\n",
    "\n",
    "• If the word starts with a vowel, simply append 'way' to the end of the word. For example, 'enter' becomes 'enterway' and 'other' becomes 'otherway' . For our purposes, there are 5 vowels: a, e, i, o, u (so we count y as a consonant).\n",
    "\n",
    "Write a function pig() that takes a word (i.e., a string) as input and returns its pigLatin form. Your function should still work if the input word contains upper case characters. Your output should always be lower case however.\n",
    ">>> pig('happy')\n",
    "'appyhay'\n",
    ">>> pig('Enter')\n",
    "'enterway'"
   ]
  },
  {
   "cell_type": "code",
   "execution_count": 36,
   "id": "b7762832-be9c-46d8-a0ea-379d91db981c",
   "metadata": {},
   "outputs": [
    {
     "name": "stdout",
     "output_type": "stream",
     "text": [
      "appyhay\n",
      "enterway\n"
     ]
    }
   ],
   "source": [
    "def pig(word):\n",
    "    # Convert the word to lowercase\n",
    "    lower_word = word.lower()\n",
    "    \n",
    "    # Check if the first letter is a vowel\n",
    "    if lower_word[0] in 'aeiou':\n",
    "        return lower_word + 'way'  # Append 'way' for words starting with a vowel\n",
    "    else:\n",
    "        # Move the first letter to the end and append 'ay' for words starting with a consonant\n",
    "        return lower_word[1:] + lower_word[0] + 'ay'\n",
    "\n",
    "# Example usage\n",
    "print(pig('happy'))  # Output: 'appyhay'\n",
    "print(pig('Enter'))  # Output: 'enterway'"
   ]
  },
  {
   "cell_type": "markdown",
   "id": "a6c2d2c8-ee26-415c-b48e-7d5a533e3101",
   "metadata": {},
   "source": [
    "# Question 7\n",
    "File bloodtype1.txt records blood-types of patients (A, B, AB, O or OO) at a clinic.\n",
    "Write a function bldcount() that reads the file with name name and reports (i.e.,\n",
    "prints) how many patients there are in each bloodtype"
   ]
  },
  {
   "cell_type": "code",
   "execution_count": 1,
   "id": "1fe1208e-e203-43b5-941f-f335c1352cd8",
   "metadata": {},
   "outputs": [
    {
     "name": "stdout",
     "output_type": "stream",
     "text": [
      "There are 15 patients of blood type A.\n",
      "There is 1 patients of blood type B.\n",
      "There are 13 patients of blood type AB.\n",
      "There are 15 patients of blood type O.\n",
      "There are no patients of blood type OO.\n"
     ]
    }
   ],
   "source": [
    "def bldcount(bloodtype1):\n",
    "    bloodTypes = ['A', 'B', 'AB', 'O', 'OO']\n",
    "    counts = {bt: 0 for bt in bloodTypes}\n",
    "\n",
    "    # Open and read file contents\n",
    "    infile = open(bloodtype1)  \n",
    "    blood_data = infile.read()  \n",
    "    infile.close()  \n",
    "\n",
    "    # Split the blood data into a list of blood types\n",
    "    blood_list = blood_data.split()\n",
    "\n",
    "    # Count occurrences \n",
    "    for blood in blood_list:\n",
    "        if blood in counts:\n",
    "            counts[blood] += 1\n",
    "\n",
    "    # Answer\n",
    "    for bt in bloodTypes:\n",
    "        count = counts[bt]\n",
    "        print(f\"There {'is' if count == 1 else 'are'} {count or 'no'} patients of blood type {bt}.\")\n",
    "\n",
    "# Example usage\n",
    "bldcount('bloodtype1.txt')"
   ]
  },
  {
   "cell_type": "markdown",
   "id": "8e22e94f-c23f-46c7-a557-95bfe783f77b",
   "metadata": {},
   "source": [
    "# Question 8\n",
    "Write a function curconv() that takes as input:\n",
    "1. a currency represented using a string (e.g., 'JPY' for the Japanese Yen or 'EUR' for the Euro)\n",
    "2. an amount and then converts and returns the amount in US dollars.\n",
    ">>> curconv('EUR', 100)\n",
    "122.96544\n",
    ">>> curconv('JPY', 100)\n",
    "1.241401\n",
    "\n",
    "The currency rates you will need are stored in file currencies.txt:\n",
    "AUD 1.0345157 Australian Dollar\n",
    "CHF 1.0237414 Swiss Franc\n",
    "CNY 0.1550176 Chinese Yuan"
   ]
  },
  {
   "cell_type": "code",
   "execution_count": 4,
   "id": "4b14c1b0-b028-48d5-80d4-606fcb8f6ab3",
   "metadata": {},
   "outputs": [
    {
     "name": "stdout",
     "output_type": "stream",
     "text": [
      "122.96544\n",
      "1.241401\n"
     ]
    }
   ],
   "source": [
    "def curconv(currency, amount):\n",
    "    \n",
    "    # Open and read the contents of the currency file\n",
    "    infile = open('currencies.txt')  \n",
    "    CurrencyData = infile.read()  \n",
    "    infile.close()  \n",
    "    \n",
    "    # Create a dictionary to store currency conversion rates\n",
    "    rates = {}\n",
    "\n",
    "    # Process each line in the currency data\n",
    "    for line in CurrencyData.splitlines():  # Split the data into individual lines\n",
    "        parts = line.split()  # Split each line into components\n",
    "        if len(parts) >= 2:  # Check that there are enough parts\n",
    "            code = parts[0]  # Get the currency code\n",
    "            rate = float(parts[1])  # Convert the rate to a float\n",
    "            rates[code] = rate  # Store the rate in the dictionary\n",
    "\n",
    "    # Convert the given amount to USD based on the currency rate\n",
    "    return amount * rates[currency]\n",
    "    \n",
    "# Example usage\n",
    "print(curconv('EUR', 100))  # Convert 100 Euros to USD\n",
    "print(curconv('JPY', 100))  # Convert 100 Japanese Yen to USD\n"
   ]
  },
  {
   "cell_type": "markdown",
   "id": "28ef2d19-1ca6-4984-bb4f-8bfc3e2f620e",
   "metadata": {},
   "source": [
    "# Question 9\n",
    "Each of the following will cause an exception (an error). Identify what type of exception each will cause.\n",
    "- Trying to add incompatible variables, as in adding 6 + ‘a’\n",
    "- Referring to the 12th item of a list that has only 10 items\n",
    "- Using a value that is out of range for a function’s input, such as calling math.sqrt(-1.0)\n",
    "- Using an undeclared variable, such as print(x) when x has not been defined\n",
    "- Trying to open a file that does not exist, such asmistyping the file name or looking in the wrong directory. "
   ]
  },
  {
   "cell_type": "markdown",
   "id": "84bd1d0a-00f7-4449-a53c-368e30fd3455",
   "metadata": {},
   "source": [
    "| **Situation**                                                                 | **Exception Type**    |\n",
    "|------------------------------------------------------------------------------|-----------------------|\n",
    "| Trying to add incompatible variables, as in `6 + 'a'`                      | `TypeError`           |\n",
    "| Referring to the 12th item of a list that has only 10 items                | `IndexError`          |\n",
    "| Using a value that is out of range for a function’s input, such as `math.sqrt(-1.0)` | `ValueError`          |\n",
    "| Using an undeclared variable, such as `print(x)` when `x` has not been defined | `NameError`           |\n",
    "| Trying to open a file that does not exist, such as mistyping the file name | `FileNotFoundError`   |\n"
   ]
  },
  {
   "cell_type": "markdown",
   "id": "404a5f9f-3e71-4c12-977d-7dde33cf2e0d",
   "metadata": {},
   "source": [
    "# Question 10\n",
    "Encryption is the process of hiding the meaning of a text by substituting letters in the message with other letters, according to some system. If the process is successful, no one but the intended recipient can understand the encrypted message. Cryptanalysis refers to attempts to undo the encryption, even if some details of the encryption are unknown (for example, if an encrypted message has been intercepted). The first step\n",
    "of cryptanalysis is often to build up a table of letter frequencies in the encrypted text. Assume that the string letters is already defined as 'abcdefghijklmnopqrstuvwxyz'. Write a function called frequencies() that takes a string as its only parameter, and returns a list of integers, showing the\n",
    "number of times each character appears in the text. Your function may ignore any characters that are not in letters.\n",
    ">>> frequencies('The quick red fox got bored and went home.')\n",
    "[1, 1, 1, 3, 5, 1, 1, 2, 1, 0, 1, 0, 1, 2, 4, 0, 1, 2, 0, 2,\n",
    "1, 0, 1, 1, 0, 0]\n",
    ">>> frequencies('apple')"
   ]
  },
  {
   "cell_type": "code",
   "execution_count": 9,
   "id": "7bd5417a-5b20-460d-bc94-c62217a5ddcb",
   "metadata": {},
   "outputs": [
    {
     "name": "stdout",
     "output_type": "stream",
     "text": [
      "[1, 1, 1, 3, 5, 1, 1, 2, 1, 0, 1, 0, 1, 2, 4, 0, 1, 2, 0, 3, 1, 0, 1, 1, 0, 0]\n",
      "[1, 0, 0, 0, 1, 0, 0, 0, 0, 0, 0, 1, 0, 0, 0, 2, 0, 0, 0, 0, 0, 0, 0, 0, 0, 0]\n"
     ]
    }
   ],
   "source": [
    "def frequencies(text):\n",
    "    # Define the string containing all lowercase letters\n",
    "    letters = 'abcdefghijklmnopqrstuvwxyz'\n",
    "    \n",
    "    # Initialize a list of 26 zeros to count frequency of each letter\n",
    "    freq = [0] * 26\n",
    "    \n",
    "    # Convert the input text to lowercase for case-insensitivity\n",
    "    text = text.lower()\n",
    "    \n",
    "    # Loop through each character in the input text\n",
    "    for char in text:\n",
    "        if char in letters:\n",
    "            index = letters.index(char)  # Get the index of the character in 'letters'\n",
    "            freq[index] += 1  # Increment the count for the corresponding letter\n",
    "\n",
    "    return freq\n",
    "\n",
    "# Example usage\n",
    "print(frequencies('The quick red fox got bored and went home.'))  # Output frequencies for the input text\n",
    "print(frequencies('apple'))  # Output frequencies for 'apple'\n"
   ]
  },
  {
   "cell_type": "code",
   "execution_count": null,
   "id": "e5814ca8-9d2d-4850-ac8c-6c6fa1144aed",
   "metadata": {},
   "outputs": [],
   "source": []
  }
 ],
 "metadata": {
  "kernelspec": {
   "display_name": "Python 3 (ipykernel)",
   "language": "python",
   "name": "python3"
  },
  "language_info": {
   "codemirror_mode": {
    "name": "ipython",
    "version": 3
   },
   "file_extension": ".py",
   "mimetype": "text/x-python",
   "name": "python",
   "nbconvert_exporter": "python",
   "pygments_lexer": "ipython3",
   "version": "3.12.4"
  }
 },
 "nbformat": 4,
 "nbformat_minor": 5
}
